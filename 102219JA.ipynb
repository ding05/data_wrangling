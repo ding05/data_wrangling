{
 "cells": [
  {
   "cell_type": "code",
   "execution_count": null,
   "metadata": {},
   "outputs": [],
   "source": [
    "using Pkg\n",
    "using CSV\n",
    "using DataFrames, DataStructures\n",
    "df = CSV.read(\"imf-dm-export-20191021.csv\") |> DataFrame\n",
    "df\n",
    "# Select the regions we want\n",
    "rows = [196, 197, 198, 204, 207, 209]\n",
    "df = df[rows, :]\n",
    "# Rename the regions\n",
    "df[1,1] = \"Africa\"\n",
    "df[2,1] = \"Asia\"\n",
    "df[3,1] = \"Oceania\"\n",
    "df\n",
    "# Rename the columns\n",
    "x = rand(Int, 45)\n",
    "for i in 1:45\n",
    "   x[i] = i+1979\n",
    "end\n",
    "x = string.(x)\n",
    "y = pushfirst!(x, \"Region\")\n",
    "colnames = y\n",
    "names!(df, Symbol.(colnames))\n",
    "CSV.write(\"df.csv\",  DataFrame(df), writeheader=true)"
   ]
  }
 ],
 "metadata": {
  "kernelspec": {
   "display_name": "Julia 1.1.1",
   "language": "julia",
   "name": "julia-1.1"
  },
  "language_info": {
   "name": ""
  }
 },
 "nbformat": 4,
 "nbformat_minor": 4
}
