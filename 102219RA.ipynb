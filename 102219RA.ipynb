{
 "cells": [
  {
   "cell_type": "code",
   "execution_count": null,
   "metadata": {},
   "outputs": [],
   "source": [
    "library(tidyverse)\n",
    "library(readr)\n",
    "library(skimr)\n",
    "library(plyr)\n",
    "library(lubridate)\n",
    "library(devtools)\n",
    "animal_df <- 'a-z-animal_name.csv' %>% read_csv()\n",
    "animal_df %>% glimpse()\n",
    "animal_df\n",
    "animal_1 <- animal_df %>%\n",
    "  select(Index, Name, Group, Location, Habitat, `Conservation Status`, `Estimated Population Size`, `Biggest Threat`)\n",
    "animal_1\n",
    "animal_2 <- arrange(animal_1, `Conservation Status`)\n",
    "animal_2\n",
    "group_animal_2 <- animal_2 %>%\n",
    "  group_by(`Conservation Status`) %>%\n",
    "  tally()\n",
    "group_animal_2\n",
    "animal_3 <- animal_2 %>%\n",
    "  filter(`Conservation Status` != 'NA') %>%\n",
    "  filter(`Conservation Status` != 'Common') %>%\n",
    "  filter(`Conservation Status` != 'Data Deficient') %>%\n",
    "  filter(`Conservation Status` != 'Not Listed') %>%\n",
    "  filter(`Conservation Status` != 'Least Concern, Vulnerable, Critically Endangered')\n",
    "animal_3\n",
    "group_animal_3 <- animal_3 %>%\n",
    "  group_by(`Conservation Status`) %>%\n",
    "  tally()\n",
    "group_animal_3\n",
    "animal_4 <- animal_3 %>%\n",
    "  filter(`Conservation Status` != 'Least Concern') %>%\n",
    "  filter(`Conservation Status` != 'Near Threatened') %>%\n",
    "  filter(`Conservation Status` != 'Threatened')\n",
    "animal_4\n",
    "group_animal_4 <- animal_4 %>%\n",
    "  group_by(`Conservation Status`) %>%\n",
    "  tally()\n",
    "group_animal_4\n",
    "summary(animal_4)\n",
    "animal_4 %>% write_csv(\"animal.csv\")"
   ]
  }
 ],
 "metadata": {
  "kernelspec": {
   "display_name": "R",
   "language": "R",
   "name": "ir"
  },
  "language_info": {
   "codemirror_mode": "r",
   "file_extension": ".r",
   "mimetype": "text/x-r-source",
   "name": "R",
   "pygments_lexer": "r",
   "version": "3.6.1"
  }
 },
 "nbformat": 4,
 "nbformat_minor": 4
}
