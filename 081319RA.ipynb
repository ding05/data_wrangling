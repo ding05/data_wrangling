{
 "cells": [
  {
   "cell_type": "code",
   "execution_count": null,
   "metadata": {},
   "outputs": [],
   "source": [
    "# Topics\n",
    "# 1. Group Project\n",
    "## Choose a team; work with Julia for Data 422; identify interesting data sources; wrangle them into a sutiable target data model; present the data to a larger audience\n",
    "### data.govt.nz & www.who.int/gho/en & data.un.org & toolbox.google.com/datasetsearch\n",
    "# 2. Relational Data\n",
    "# 3. 'Specialized' Data Types in R (and in Julia)\n",
    "# 4. Web as a Source of Data (Scraping and Using APIs)\n",
    "\n",
    "# Language for Databases - SQL\n",
    "# Package - dbplyr\n",
    "\n",
    "install.packages('dbplyr')\n",
    "\n",
    "library(tidyverse)\n",
    "library(dbplyr)\n",
    "\n",
    "mtcars\n",
    "mtcars %>% collect()\n",
    "\n",
    "'This is a string.'\n",
    "'a'\n",
    "\n",
    "library(stringr)\n",
    "\n",
    "'Giulio' %>%\n",
    "  str_to_lower() %>%\n",
    "  str_to_upper() %>%\n",
    "  str_c('Dalla Riva') %>%\n",
    "  str_detect('GIU')\n",
    "# stringr.tidyverse.org\n",
    "\n",
    "library(lubridate)\n",
    "# lubridate.tidyverse.org\n",
    "# Cheat sheet, date and times with lubridate\n",
    "\n",
    "c(1,2,3,4) %>% typeof()\n",
    "\n",
    "messy <- list(1, '2', c, data.frame(), list(1, '2', c, data.frame(), list(1, '2', c, data.frame())))\n",
    "messy[5] # There is an order still\n",
    "\n",
    "lm(mpg ~ cyl, data = mtcars) %>% typeof()\n",
    "\n",
    "lm(mpg ~ cyl, data = mtcars) %>% str()"
   ]
  }
 ],
 "metadata": {
  "kernelspec": {
   "display_name": "R",
   "language": "R",
   "name": "ir"
  },
  "language_info": {
   "codemirror_mode": "r",
   "file_extension": ".r",
   "mimetype": "text/x-r-source",
   "name": "R",
   "pygments_lexer": "r",
   "version": "3.6.1"
  }
 },
 "nbformat": 4,
 "nbformat_minor": 4
}
