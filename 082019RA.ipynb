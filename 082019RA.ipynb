{
 "cells": [
  {
   "cell_type": "code",
   "execution_count": null,
   "metadata": {},
   "outputs": [],
   "source": [
    "# What we have learned so far\n",
    "# Group project\n",
    "# Get data from web pages.\n",
    "# Food recipe data!\n",
    "# We want nutrition per serving\n",
    "library(tidyverse)"
   ]
  },
  {
   "cell_type": "code",
   "execution_count": null,
   "metadata": {},
   "outputs": [],
   "source": [
    "# Wdie data frame\n",
    "dietary_info <- tibble(\n",
    "  Name = character(),\n",
    "  Kcal = numeric(),\n",
    "  Fat = numeric(),\n",
    "  Saturates = numeric(),\n",
    "  Carbs = numeric(),\n",
    "  Fibre = numeric(),\n",
    "  Protein = numeric(),\n",
    "  Salt = numeric()\n",
    ")\n",
    "dietary_info"
   ]
  },
  {
   "cell_type": "code",
   "execution_count": null,
   "metadata": {},
   "outputs": [],
   "source": [
    "# Long data frame\n",
    "dietary_info <- tibble(\n",
    "  Name = character(),\n",
    "  Nutrition_info = character(),\n",
    "  Value = numeric()\n",
    ")\n",
    "dietary_info"
   ]
  },
  {
   "cell_type": "code",
   "execution_count": null,
   "metadata": {},
   "outputs": [],
   "source": [
    "install.packages('xml2')\n",
    "library(xml2)\n",
    "install.packages('rvest')\n",
    "library(rvest)"
   ]
  },
  {
   "cell_type": "code",
   "execution_count": null,
   "metadata": {},
   "outputs": [],
   "source": [
    "aubergine <- read_html('https://www.bbcgoodfood.com/recipes/burnt-aubergine-veggie-chilli')\n",
    "aubergine %>% print() # We can't see much."
   ]
  },
  {
   "cell_type": "code",
   "execution_count": null,
   "metadata": {},
   "outputs": [],
   "source": [
    "aubergine %>% str()\n",
    "aubergine$doc %>% str()\n",
    "aubergine %>% html_structure()\n",
    "# Use F12 to check each element."
   ]
  },
  {
   "cell_type": "code",
   "execution_count": null,
   "metadata": {},
   "outputs": [],
   "source": [
    "aubergine %>%\n",
    "  html_nodes('.recipe-header_title')"
   ]
  },
  {
   "cell_type": "code",
   "execution_count": null,
   "metadata": {},
   "outputs": [],
   "source": [
    "aubergine %>%\n",
    "  html_nodes('.nutrition') # Lucky or not?"
   ]
  },
  {
   "cell_type": "code",
   "execution_count": null,
   "metadata": {},
   "outputs": [],
   "source": [
    "aubergine %>%\n",
    "  html_nodes('.nutrition') %>%\n",
    "  html_text() # Get them but it's hard to read them."
   ]
  },
  {
   "cell_type": "code",
   "execution_count": null,
   "metadata": {},
   "outputs": [],
   "source": [
    "aubergine %>%\n",
    "  html_nodes('.nutrition') %>%\n",
    "  str() # List of 1; list of two\n",
    "aubergine %>%\n",
    "  html_nodes('.nutrition') %>%\n",
    "  map(html_structure)"
   ]
  },
  {
   "cell_type": "code",
   "execution_count": null,
   "metadata": {},
   "outputs": [],
   "source": [
    "aubergine %>%\n",
    "  html_node('.nutrition') %>%\n",
    "  str()\n",
    "aubergine %>%\n",
    "  html_node('.nutrition') %>%\n",
    "  map(htm_structure) # Nope!"
   ]
  },
  {
   "cell_type": "code",
   "execution_count": null,
   "metadata": {},
   "outputs": [],
   "source": [
    "aubergine %>%\n",
    "  html_node('.nutrition') %>%\n",
    "  html_nodes('li') %>%\n",
    "  map(html_text) # We got the texts."
   ]
  },
  {
   "cell_type": "code",
   "execution_count": null,
   "metadata": {},
   "outputs": [],
   "source": [
    "get_out_nutrition <- function(nodes){\n",
    "  label <- nodes %>%\n",
    "  html_node('.nutrition_label') %>%\n",
    "  html_text()\n",
    "  value <- nodes %>%\n",
    "  html_node('.nutrition_value') %>%\n",
    "  html_text()\n",
    "  nutr_dataframe <- tibble(nutrition_info = label,\n",
    "                           nutrition_value = value)\n",
    "  return(nutr_dataframe)\n",
    "}"
   ]
  },
  {
   "cell_type": "code",
   "execution_count": null,
   "metadata": {},
   "outputs": [],
   "source": [
    "aubergine %>%\n",
    "  html_node('.nutrition') %>%\n",
    "  html_nodes('li') %>%\n",
    "  map_df(get_out_nutrition) # Something goes wrong. Values are missing."
   ]
  },
  {
   "cell_type": "code",
   "execution_count": null,
   "metadata": {},
   "outputs": [],
   "source": [
    "get_info <- . %>%\n",
    "  html_node('.nutrition') %>%\n",
    "  html_nodes('li') %>%\n",
    "  map_df(get_out_nutrition)"
   ]
  },
  {
   "cell_type": "code",
   "execution_count": null,
   "metadata": {},
   "outputs": [],
   "source": [
    "aubergine %>% get_info()"
   ]
  },
  {
   "cell_type": "code",
   "execution_count": null,
   "metadata": {},
   "outputs": [],
   "source": [
    "bean_peper %>% get_info()"
   ]
  },
  {
   "cell_type": "code",
   "execution_count": null,
   "metadata": {},
   "outputs": [],
   "source": [
    "nutrition_long_df <- tibble(recipe_name = 'https://www.bbcgoodfood.com/recipes/double-bean-roasted-pepper-chilli')\n",
    "  read_html() %>%\n",
    "  get_text(), nutrition_info = 'https://www.bbcgoodfood.com/recipes/double-bean-roasted-pepper-chilli' %>%\n",
    "  read_html() %>%\n",
    "  get_info() %>%\n",
    "  nest()\n",
    ")\n",
    "# Check the syntax."
   ]
  },
  {
   "cell_type": "code",
   "execution_count": null,
   "metadata": {},
   "outputs": [],
   "source": [
    "nutrition_long_df %>% glimpse()"
   ]
  },
  {
   "cell_type": "code",
   "execution_count": null,
   "metadata": {},
   "outputs": [],
   "source": [
    "# Make it wide.\n",
    "nutrition_wide_df <- tibble(recipe_name = 'https://www.bbcgoodfood.com/recipes/double-bean-roasted-pepper-chilli')\n",
    "  read_html() %>%\n",
    "  get_text(), nutrition_info = 'https://www.bbcgoodfood.com/recipes/double-bean-roasted-pepper-chilli' %>%\n",
    "  read_html() %>%\n",
    "  get_info() %>%\n",
    "  spread(key = nutrition_info, value = nutrition_value)"
   ]
  },
  {
   "cell_type": "code",
   "execution_count": null,
   "metadata": {},
   "outputs": [],
   "source": [
    "nutrition_wide_df %>% glimpse"
   ]
  },
  {
   "cell_type": "code",
   "execution_count": null,
   "metadata": {},
   "outputs": [],
   "source": [
    "nutrition_info <- tibble(url = c(\n",
    "'https://www.bbcgoodfood.com/recipes/burnt-aubergine-veggie-chilli',\n",
    "'https://www.bbcgoodfood.com/recipes/double-bean-roasted-pepper-chilli')\n",
    ")"
   ]
  },
  {
   "cell_type": "code",
   "execution_count": null,
   "metadata": {},
   "outputs": [],
   "source": [
    "url_to_title <- . %>%\n",
    "  read_html() %>%\n",
    "  get_text()"
   ]
  },
  {
   "cell_type": "code",
   "execution_count": null,
   "metadata": {},
   "outputs": [],
   "source": [
    "url_to_info <- . %>%\n",
    "  read_html() %>%\n",
    "  get_text()"
   ]
  },
  {
   "cell_type": "code",
   "execution_count": null,
   "metadata": {},
   "outputs": [],
   "source": [
    "nutrition_info %>%\n",
    "  mutate(recipe_name = map(\n",
    "    url,\n",
    "    url_to_tille),\n",
    "      nutrition_info = map(\n",
    "      url,\n",
    "      url_to_info)\n",
    "  )\n",
    "# The lecture went so fast that I could barely keep up. There are mistakes in codes."
   ]
  },
  {
   "cell_type": "code",
   "execution_count": null,
   "metadata": {},
   "outputs": [],
   "source": [
    "title_class <- '.teaser-item_title'\n",
    "'https://www.bbcgoodfood.com/recipes/category/vegetarian' %>%\n",
    "  read_html() %>%\n",
    "  html_nodes(title_class) %>%\n",
    "  html_nodes('a') %>%\n",
    "  html_attr('href') %>%\n",
    "  str_c('https://www.bbcgoodfood.com', .) %>% # Make the links complete.\n",
    "  tibble(url = ,)\n",
    "# The list of web addresses should be returned."
   ]
  },
  {
   "cell_type": "code",
   "execution_count": null,
   "metadata": {},
   "outputs": [],
   "source": [
    "# Combine the previous two steps.\n",
    "get_recipes_links <- ? # Incomplete codes\n",
    "'https://www.bbcgoodfood.com/recipes/category/vegetarian' %>% get_recipes_links()"
   ]
  },
  {
   "cell_type": "code",
   "execution_count": null,
   "metadata": {},
   "outputs": [],
   "source": [
    "'https://www.bbcgoodfood.com/recipes/category/vegetarian' %>%\n",
    "  read_html() %>%\n",
    "  html_nodes('.category-item--title') %>% # Use F12 and find these tags.\n",
    "  html_nodes('a') %>%\n",
    "  html_attr('href')"
   ]
  },
  {
   "cell_type": "code",
   "execution_count": null,
   "metadata": {},
   "outputs": [],
   "source": [
    "purrr::safely()\n",
    "purrr::possibly(get_out_nutrition, otherwise = tibble(nutrition_info = 'nothing found',\n",
    "                                                     nutrition_value = NA_numeric_))"
   ]
  },
  {
   "cell_type": "code",
   "execution_count": null,
   "metadata": {},
   "outputs": [],
   "source": [
    "# Constrains: the ethics\n",
    "# Read site terms.\n",
    "# Visit domain/robots.txt to see what are allowed or not.\n",
    "# Visit domain/humans.txt to see who we can contact."
   ]
  }
 ],
 "metadata": {
  "kernelspec": {
   "display_name": "R",
   "language": "R",
   "name": "ir"
  },
  "language_info": {
   "codemirror_mode": "r",
   "file_extension": ".r",
   "mimetype": "text/x-r-source",
   "name": "R",
   "pygments_lexer": "r",
   "version": "3.6.1"
  }
 },
 "nbformat": 4,
 "nbformat_minor": 4
}
