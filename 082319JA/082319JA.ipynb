{
 "cells": [
  {
   "cell_type": "code",
   "execution_count": null,
   "metadata": {},
   "outputs": [],
   "source": [
    "## Start of my work\n",
    "using Pkg\n",
    "Pkg.update\n",
    "Pkg.add(\"CSV\")\n",
    "Pkg.add(\"DataFrames\")\n",
    "Pkg.add(\"Queryverse\")\n",
    "Pkg.add(\"VegaDatasets\")\n",
    "Pkg.add(\"IndexedTables\")\n",
    "Pkg.add(\"DataFramesMeta\")\n",
    "Pkg.add(\"PyPlot\")\n",
    "using CSV\n",
    "using DataFrames\n",
    "data_bird = CSV.read(\"Penguin_dataBird_data.csv\") |> DataFrame\n",
    "data_ship = CSV.read(\"Penguin_dataShip_data.csv\") |> DataFrame\n",
    "## End of my work"
   ]
  },
  {
   "cell_type": "code",
   "execution_count": null,
   "metadata": {},
   "outputs": [],
   "source": [
    "## Start of my work\n",
    "# I guess it's \"RECORDID\".\n",
    "data_bird_1 = select!(data_bird, Not(:RECORD))\n",
    "data_ship_1 = select!(data_ship, Not(:RECORD))\n",
    "data_penguin = join(data_bird_1, data_ship_1, on =:RECORDID)\n",
    "## End of my work"
   ]
  },
  {
   "cell_type": "code",
   "execution_count": null,
   "metadata": {},
   "outputs": [],
   "source": [
    "## Start of my work\n",
    "using Queryverse\n",
    "little_data_penguin = data_penguin |>\n",
    "  @filter(_.SpeciesAbbreviation == \"EUDMIN\") |>\n",
    "  DataFrame\n",
    "describe(little_data_penguin)\n",
    "spring_little_data_penguin = little_data_penguin |>\n",
    "  @filter(_.SEASN == \"spring\") |>\n",
    "  DataFrame\n",
    "sum(spring_little_data_penguin[9])\n",
    "# 2 rows (observations) in spring\n",
    "# 3 counts totally\n",
    "describe(spring_little_data_penguin)\n",
    "summer_little_data_penguin = little_data_penguin |>\n",
    "  @filter(_.SEASN == \"summer\") |>\n",
    "  DataFrame\n",
    "sum(summer_little_data_penguin[9])\n",
    "# 10 rows (observations) in summer\n",
    "# 24 counts totally\n",
    "autumn_little_data_penguin = little_data_penguin |>\n",
    "  @filter(_.SEASN == \"autumn\") |>\n",
    "  DataFrame\n",
    "autumn_little_data_penguin_1 = autumn_little_data_penguin |>\n",
    "  @filter(_.COUNT > 0) |>\n",
    "  DataFrame # Take out the missing values.\n",
    "sum(autumn_little_data_penguin_1[9])\n",
    "# 17 rows (observations) in autumn\n",
    "# 31 counts totally\n",
    "winter_little_data_penguin = little_data_penguin |>\n",
    "  @filter(_.SEASN == \"winter\") |>\n",
    "  DataFrame\n",
    "winter_little_data_penguin_1 = winter_little_data_penguin |>\n",
    "  @filter(_.COUNT > 0) |>\n",
    "  DataFrame # Take out the missing values.\n",
    "sum(winter_little_data_penguin_1[9])\n",
    "# 12 rows (observations) in winter\n",
    "# 32 counts totally\n",
    "# Hence, there are the most observations in autumn. But there the most total counts in winter.\n",
    "# We can expect to see more little penguins in winter.\n",
    "# However, if we consider the missing value may generate errors, in either winter or autumn, we probably can expect to see more little penguins.\n",
    "## End of my work"
   ]
  },
  {
   "cell_type": "code",
   "execution_count": null,
   "metadata": {},
   "outputs": [],
   "source": [
    "## Start o\n",
    "using PyPlot\n",
    "using Dates\n",
    "import Dates\n",
    "describe(data_penguin)\n",
    "# The year is in the 27th column.\n",
    "# The count is in the 9th column.\n",
    "date_data_penguin = data_penguin[27]"
   ]
  }
 ],
 "metadata": {
  "kernelspec": {
   "display_name": "Julia 1.1.1",
   "language": "julia",
   "name": "julia-1.1"
  },
  "language_info": {
   "name": ""
  }
 },
 "nbformat": 4,
 "nbformat_minor": 4
}
